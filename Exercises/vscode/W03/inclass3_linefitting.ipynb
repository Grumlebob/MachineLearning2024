{
  "cells": [
    {
      "cell_type": "code",
      "execution_count": 2,
      "id": "css_setup",
      "metadata": {
        "jupyter": {
          "source_hidden": true
        }
      },
      "outputs": [],
      "source": [
        "import requests\n",
        "from IPython.core.display import HTML"
      ]
    },
    {
      "cell_type": "markdown",
      "id": "kjJ6q94ij4PN5MSMQVAAL",
      "metadata": {},
      "source": [
        "# Line fitting the matrix way\n",
        "This in-class exercise walks you through the following steps to fit a line to several datasets:\n",
        "1. Create the datasets.\n",
        "2. Construct design matrices.\n",
        "3. Compute the weights using matrix inversion.\n",
        "4. Plot the data and the fitted line.\n",
        "\n",
        "## Linear (line) models\n",
        "\n",
        "---\n",
        "**Task 1 (easy): Identifying parameters👩‍💻**\n",
        "1. Run the cell below to load the neccessary libraries and to construct the datasets.\n",
        "\n",
        "2. Identify the inputs and the labels of each dataset. \n",
        "\n",
        "\n",
        "\n",
        "---"
      ]
    },
    {
      "cell_type": "code",
      "execution_count": 3,
      "id": "cc-9u_I5N2pgAszNyUOpx",
      "metadata": {},
      "outputs": [],
      "source": [
        "import numpy as np\n",
        "import matplotlib.pyplot as plt\n",
        "\n",
        "dataset_1 = np.array([[10, 2], \n",
        "                      [9, 6]])\n",
        "dataset_2 = np.array([[5, 1], [7, 5]])\n",
        "dataset_3 = np.array([[4, 2], [5, 3]])\n",
        "dataset_4 = np.array([[2,1],[5,2]])\n",
        "\n",
        "#Input1 10,9,5,7,4,5\n",
        "#output 2,6,1,5,2,3"
      ]
    },
    {
      "cell_type": "markdown",
      "id": "gsGvDoxYLjlRlm3H4uNYL",
      "metadata": {},
      "source": [
        "\n",
        "---\n",
        "**Task 2 (easy): Identifying parameters and constructing the design matrix👩‍💻**\n",
        "1. Complete the `separate_inputs_labels`\n",
        " function below. The function should take a dataset as input and return the inputs and labels separated into separate variables. The function should return a matrix `X`\n",
        " containing the inputs and an array `y`\n",
        " containing the labels. Use the function to obtain the inputs and labels for each dataset.\n",
        "\n",
        "\n",
        "**Hint**\n",
        "Slicing might be helpful here.\n",
        "\n",
        "2. Complete the code below and construct the design matrix for the other datasets. Print your results.\n",
        "\n",
        "\n",
        "---"
      ]
    },
    {
      "cell_type": "code",
      "execution_count": 4,
      "id": "U2hXjreUUKNOrJo5qFVm1",
      "metadata": {},
      "outputs": [
        {
          "name": "stdout",
          "output_type": "stream",
          "text": [
            "X1 = \n",
            " [[10]\n",
            " [ 9]]\n",
            "y1 = [2 6]\n",
            "Design Matrix for Dataset 1:\n",
            " [[10.  1.]\n",
            " [ 9.  1.]]\n",
            "Design Matrix for Dataset 1:\n",
            " [[2. 1.]\n",
            " [5. 1.]]\n"
          ]
        }
      ],
      "source": [
        "def separate_inputs_labels(dataset):\n",
        "    \n",
        "    X = dataset[:,0:1]\n",
        "    y = dataset[:,1:] \n",
        "    #flatten y to 1D array\n",
        "    y = y.flatten()\n",
        "\n",
        "    return X, y\n",
        "\n",
        "# construct the design matrix    \n",
        "X1 = separate_inputs_labels(dataset_1)[0]\n",
        "X2 = separate_inputs_labels(dataset_2)[0]\n",
        "X3 = separate_inputs_labels(dataset_3)[0]\n",
        "X4 = separate_inputs_labels(dataset_4)[0]\n",
        "\n",
        "y1 = separate_inputs_labels(dataset_1)[1]\n",
        "y2 = separate_inputs_labels(dataset_2)[1]\n",
        "y3 = separate_inputs_labels(dataset_3)[1]\n",
        "y4 = separate_inputs_labels(dataset_4)[1]\n",
        "\n",
        "#X1 = \n",
        "# [[10]\n",
        "# [ 9]\n",
        "#X1_Design \n",
        "# [[10,1]\n",
        "# [ 9,1]\n",
        "\n",
        "X1_design = np.hstack((X1, np.ones(X1.shape)))\n",
        "X4_design = np.hstack((X4, np.ones(X4.shape)))\n",
        "\n",
        "# Print the datasets\n",
        "print(\"X1 = \\n\",X1)\n",
        "print(\"y1 =\", y1)\n",
        "print(\"Design Matrix for Dataset 1:\\n\", X1_design)\n",
        "print(\"Design Matrix for Dataset 1:\\n\", X4_design)\n"
      ]
    },
    {
      "cell_type": "markdown",
      "id": "xZ7P2f4PsAY0lJOFVXw6_",
      "metadata": {},
      "source": [
        "\n",
        "---\n",
        "**Task 3 (easy): Solve for model parameters👩‍💻**\n",
        "1. Find the inverse of the design matrix for each dataset constructed above.\n",
        "2. Calculate the model weights, then print your results.\n",
        "3. Use the `plot_model`\n",
        " function to plot your results.\n",
        "4. Visually inspect the plots and interpret the meaning and influence of each term.\n",
        "\n",
        "\n",
        "---"
      ]
    },
    {
      "cell_type": "code",
      "execution_count": 5,
      "id": "u7hE96z2RsHu9juiB6I1e",
      "metadata": {},
      "outputs": [
        {
          "name": "stdout",
          "output_type": "stream",
          "text": [
            "Weights for Dataset 1: [0.33333333 0.33333333]\n"
          ]
        },
        {
          "data": {
            "image/png": "[encoded data removed]",
            "text/plain": [
              "<Figure size 640x480 with 1 Axes>"
            ]
          },
          "metadata": {},
          "output_type": "display_data"
        }
      ],
      "source": [
        "#A x = b\n",
        "A = X4_design\n",
        "b = y4\n",
        "x = np.linalg.inv(A)@b\n",
        "\n",
        "\n",
        "print(\"Weights for Dataset 1:\", x)\n",
        "\n",
        "# Function to plot data points and fitted line\n",
        "def plot_model(X, y, wieghts, dataset_name):\n",
        "    # Plot the data points\n",
        "    plt.scatter(X, y, color='blue', label='Given Points')\n",
        "    \n",
        "    # Extend x_vals range to include zero for correct y-intercept visualization\n",
        "    x_vals = np.linspace(0, max(X) + 1, 100)\n",
        "    y_vals = wieghts[0] * x_vals + wieghts[1]\n",
        "    \n",
        "    # Plot the fitted line\n",
        "    plt.plot(x_vals, y_vals, color='red', label=f'Line: y = {wieghts[0]:.2f}x + {wieghts[1]:.2f}')\n",
        "    \n",
        "    # Plot the y-intercept\n",
        "    plt.scatter(0, wieghts[1], color='green', zorder=5, label=f'Y-intercept (0, {wieghts[1]:.2f})')\n",
        "    \n",
        "    # Add title and labels\n",
        "    plt.title(dataset_name)\n",
        "    plt.xlabel('X')\n",
        "    plt.ylabel('y')\n",
        "    plt.legend()\n",
        "    plt.grid(True)\n",
        "    plt.show()\n",
        "    \n",
        "\n",
        "plot_model(X1, y1, x, 'Dataset 1')"
      ]
    },
    {
      "cell_type": "markdown",
      "id": "vi6a7Rr_atot0mXZtaNck",
      "metadata": {},
      "source": [
        "If you have more time, complete the next task.\n",
        "\n",
        "---\n",
        "**Task 4 (easy): A new dataset👩‍💻♾️💡**\n",
        "Run the cell below to define a new dataset.\n",
        "1. Identify the inputs and the labels, then reuse the code from previous tasks to construct a design matrix.\n",
        "2. Calculate the inverse of the design matrix. This step should result in an error. What are the possible reasons for getting this error?\n",
        "\n",
        "**Note:** For pedagogical reasons, next week we will return to this dataset, as you will have the necessary tools to fit a model for this scenario.\n",
        "\n",
        "\n",
        "---"
      ]
    },
    {
      "cell_type": "code",
      "execution_count": 7,
      "id": "HHhfug30J6q_u1S0Civqc",
      "metadata": {},
      "outputs": [
        {
          "ename": "LinAlgError",
          "evalue": "Last 2 dimensions of the array must be square",
          "output_type": "error",
          "traceback": [
            "\u001b[1;31m---------------------------------------------------------------------------\u001b[0m",
            "\u001b[1;31mLinAlgError\u001b[0m                               Traceback (most recent call last)",
            "Cell \u001b[1;32mIn[7], line 9\u001b[0m\n\u001b[0;32m      1\u001b[0m dataset_5 \u001b[38;5;241m=\u001b[39m np\u001b[38;5;241m.\u001b[39marray([[\u001b[38;5;241m9\u001b[39m, \u001b[38;5;241m1\u001b[39m], \n\u001b[0;32m      2\u001b[0m                       [\u001b[38;5;241m7\u001b[39m, \u001b[38;5;241m2\u001b[39m],\n\u001b[0;32m      3\u001b[0m                       [\u001b[38;5;241m3\u001b[39m, \u001b[38;5;241m8\u001b[39m], \n\u001b[0;32m      4\u001b[0m                       [\u001b[38;5;241m1\u001b[39m, \u001b[38;5;241m3\u001b[39m],\n\u001b[0;32m      5\u001b[0m                       [\u001b[38;5;241m4\u001b[39m, \u001b[38;5;241m3\u001b[39m]])\n\u001b[0;32m      7\u001b[0m design_matrix \u001b[38;5;241m=\u001b[39m np\u001b[38;5;241m.\u001b[39mhstack((dataset_5[:,\u001b[38;5;241m0\u001b[39m:\u001b[38;5;241m1\u001b[39m], np\u001b[38;5;241m.\u001b[39mones((dataset_5\u001b[38;5;241m.\u001b[39mshape[\u001b[38;5;241m0\u001b[39m], \u001b[38;5;241m1\u001b[39m))))\n\u001b[1;32m----> 9\u001b[0m inv_design_matrix \u001b[38;5;241m=\u001b[39m \u001b[43mnp\u001b[49m\u001b[38;5;241;43m.\u001b[39;49m\u001b[43mlinalg\u001b[49m\u001b[38;5;241;43m.\u001b[39;49m\u001b[43minv\u001b[49m\u001b[43m(\u001b[49m\u001b[43mdesign_matrix\u001b[49m\u001b[43m)\u001b[49m\n\u001b[0;32m     11\u001b[0m \u001b[38;5;28mprint\u001b[39m(\u001b[38;5;124m\"\u001b[39m\u001b[38;5;124mdesign matrix for dataset 5:\u001b[39m\u001b[38;5;130;01m\\n\u001b[39;00m\u001b[38;5;124m\"\u001b[39m, design_matrix)\n",
            "File \u001b[1;32mc:\\Users\\jgrum\\.conda\\envs\\iml\\lib\\site-packages\\numpy\\linalg\\linalg.py:556\u001b[0m, in \u001b[0;36minv\u001b[1;34m(a)\u001b[0m\n\u001b[0;32m    554\u001b[0m a, wrap \u001b[38;5;241m=\u001b[39m _makearray(a)\n\u001b[0;32m    555\u001b[0m _assert_stacked_2d(a)\n\u001b[1;32m--> 556\u001b[0m \u001b[43m_assert_stacked_square\u001b[49m\u001b[43m(\u001b[49m\u001b[43ma\u001b[49m\u001b[43m)\u001b[49m\n\u001b[0;32m    557\u001b[0m t, result_t \u001b[38;5;241m=\u001b[39m _commonType(a)\n\u001b[0;32m    559\u001b[0m signature \u001b[38;5;241m=\u001b[39m \u001b[38;5;124m'\u001b[39m\u001b[38;5;124mD->D\u001b[39m\u001b[38;5;124m'\u001b[39m \u001b[38;5;28;01mif\u001b[39;00m isComplexType(t) \u001b[38;5;28;01melse\u001b[39;00m \u001b[38;5;124m'\u001b[39m\u001b[38;5;124md->d\u001b[39m\u001b[38;5;124m'\u001b[39m\n",
            "File \u001b[1;32mc:\\Users\\jgrum\\.conda\\envs\\iml\\lib\\site-packages\\numpy\\linalg\\linalg.py:213\u001b[0m, in \u001b[0;36m_assert_stacked_square\u001b[1;34m(*arrays)\u001b[0m\n\u001b[0;32m    211\u001b[0m m, n \u001b[38;5;241m=\u001b[39m a\u001b[38;5;241m.\u001b[39mshape[\u001b[38;5;241m-\u001b[39m\u001b[38;5;241m2\u001b[39m:]\n\u001b[0;32m    212\u001b[0m \u001b[38;5;28;01mif\u001b[39;00m m \u001b[38;5;241m!=\u001b[39m n:\n\u001b[1;32m--> 213\u001b[0m     \u001b[38;5;28;01mraise\u001b[39;00m LinAlgError(\u001b[38;5;124m'\u001b[39m\u001b[38;5;124mLast 2 dimensions of the array must be square\u001b[39m\u001b[38;5;124m'\u001b[39m)\n",
            "\u001b[1;31mLinAlgError\u001b[0m: Last 2 dimensions of the array must be square"
          ]
        }
      ],
      "source": [
        "dataset_5 = np.array([[9, 1], \n",
        "                      [7, 2],\n",
        "                      [3, 8], \n",
        "                      [1, 3],\n",
        "                      [4, 3]])\n",
        "\n",
        "design_matrix = np.hstack((dataset_5[:,0:1], np.ones((dataset_5.shape[0], 1))))\n",
        "\n",
        "#Fails, because det(a) = 0\n",
        "#inv_design_matrix = np.linalg.inv(design_matrix)\n",
        "\n",
        "print(\"design matrix for dataset 5:\\n\", design_matrix)\n"
      ]
    },
    {
      "cell_type": "markdown",
      "id": "ZxY9V20Bn0siarBfWZ_yF",
      "metadata": {},
      "source": []
    }
  ],
  "metadata": {
    "kernelspec": {
      "display_name": "Python",
      "language": "python3",
      "name": "python3"
    },
    "language_info": {
      "codemirror_mode": {
        "name": "ipython",
        "version": 3
      },
      "file_extension": ".py",
      "mimetype": "text/x-python",
      "name": "python",
      "nbconvert_exporter": "python",
      "pygments_lexer": "ipython3",
      "version": "3.10.14"
    }
  },
  "nbformat": 4,
  "nbformat_minor": 5
}
