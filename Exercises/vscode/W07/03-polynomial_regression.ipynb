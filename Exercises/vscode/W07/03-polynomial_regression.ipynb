{
  "metadata": {
    "kernelspec": {
      "display_name": "Python",
      "language": "python3",
      "name": "python3"
    },
    "language_info": {
      "codemirror_mode": {
        "name": "ipython",
        "version": 3
      },
      "file_extension": "py",
      "mimetype": "text/x-python",
      "name": "python"
    }
  },
  "nbformat": 4,
  "nbformat_minor": 5,
  "cells": [
    {
      "cell_type": "code",
      "id": "css_setup",
      "metadata": {
        "jupyter": {
          "source_hidden": true
        }
      },
      "source": [
        "import requests\n",
        "from IPython.core.display import HTML\n",
        "HTML(f\"\"\"\n",
        "<style>\n",
        "@import \"https://cdn.jsdelivr.net/npm/bulma@0.9.4/css/bulma.min.css\";\n",
        "</style>\n",
        "\"\"\")"
      ],
      "execution_count": 0,
      "outputs": []
    },
    {
      "cell_type": "markdown",
      "id": "KoKJAXMH4rqnTLQThsVmf",
      "metadata": {},
      "source": [
        "# Polynomial regression\n",
        ""
      ]
    },
    {
      "cell_type": "code",
      "id": "wVyxFUb2suxCEhqOke3N-",
      "metadata": {},
      "source": [
        "import numpy as np\n",
        "from scipy import stats\n",
        "import matplotlib.pyplot as plt"
      ],
      "execution_count": 0,
      "outputs": []
    },
    {
      "cell_type": "markdown",
      "id": "0mHQzBFwDhzAiE89NdM4D",
      "metadata": {},
      "source": [
        "In this exercise, suppose you want to buy a house in the City of Windsor, Canada. You contact a real-estate salesperson to get information about current house prices and receive details on 546 properties sold in Windsor in the last two years. You would like to figure out what the expected cost of a house might be given only the lot size of the house you want to buy. The dataset has an independent variable, `lotsize`\n",
        ", specifying the lot size of a property and a dependent variable, `price`\n",
        ", the sale price of a house. Assume an $N$th-order polynomial relation between `price`\n",
        " and `lot-size`\n",
        ".\n",
        "The goal is to estimate the best model (in a least-square-sense) that predicts the house price based from lot size.\n",
        "You will implement a method to estimate the model parameters of  $N$-th order polynomials and use the model to predict the price of a house (in Canadian dollars) based on its lot size (in square feet).\n",
        "A polynomial _model_ of order $N$ is defined by:\n",
        "\n",
        "$$\n",
        "f_\\mathbf{w}(x) = \\mathbf{w}_0 + \\mathbf{w}_1 x + \\mathbf{w}_2 x^2 + \\dots + \\mathbf{w}_N x^N,\n",
        "$$\n",
        "in which, the coefficients $\\mathbf{w}_i$ are the model parameters and $x$ is the `lot_size`\n",
        ". \n",
        "**Note:** Note that $f_\\mathbf{w}$ is linear in the model parameters, $\\mathbf{w}$. Solving for the model parameters can be done by setting up the linear set of equations $A \\mathbf{w} = y$.\n",
        "\n",
        "Where\n",
        "\n",
        "$$\n",
        "\\underbrace{\\begin{bmatrix}\n",
        "    1 & x_1 & x_1^2 & x_1^3 & \\dots & x_1^N \\\\\n",
        "    1 & x_2 & x_2^2 & x_2^3 & \\dots & x_2^N \\\\\n",
        "    1 & x_3 & x_3^2 & x_3^3 & \\dots & x_3^N \\\\\n",
        "    \\vdots & \\vdots & \\vdots & \\vdots & \\ddots & \\vdots \\\\\n",
        "    1 & x_m & x_m^2 & x_m^3 & \\dots & x_m^N\n",
        "\\end{bmatrix}}_A\n",
        "\\times\n",
        "\\underbrace{\\begin{bmatrix}\n",
        "    \\mathbf{w}_0 \\\\\n",
        "    \\mathbf{w}_1 \\\\\n",
        "    \\mathbf{w}_2 \\\\\n",
        "    \\mathbf{w}_3 \\\\\n",
        "    \\vdots \\\\\n",
        "    \\mathbf{w}_N\n",
        "\\end{bmatrix}}_\\mathbf{w}\n",
        "=\n",
        "\\underbrace{\\begin{bmatrix}\n",
        "    y_1 \\\\\n",
        "    y_2 \\\\\n",
        "    y_3 \\\\\n",
        "    \\vdots \\\\\n",
        "    y_m\n",
        "\\end{bmatrix}}_y.\n",
        "$$\n",
        "Define the _loss_ $\\mathcal{L}$ for a single prediction as the squared error\n",
        "\n",
        "$$\n",
        "\\mathcal{L}(\\hat{y}_i, y_i) = (\\hat{y}_i-y_{i})^2,\n",
        "$$\n",
        "where $\\hat{y}_i=f_{\\mathbf{w}}(x_i)$ is the prediction and $y_i$ is the label.\n",
        "The linear least squares method minimizes the sum of squares. In other words, the parameters $\\mathbf{w}$ can be learned by solving the following optimisation problem:\n",
        "\n",
        "$$\n",
        "\\mathbf{w} = \\underset{\\mathbf{w}}{\\operatorname{argmin}} \\frac{1}{m}\\sum_{i=1}^{m} \\mathcal{L}(\\hat{y}_i, y_i) \\quad\\quad \\text{(1)}\n",
        "$$\n",
        "**Note:** Recall projecting the vector of labels $\\mathbb{y} = \\begin{bmatrix} y_1\\\\y_2\\\\\\vdots\\\\y_n \\end{bmatrix}$ onto the column space of the design matrix defined by $A$ is equivalent to minimizing the mean squared error in Equation 1.\n",
        "\n",
        "## Data exploration\n",
        "The following cell loads the dataset and visualizes the data:\n",
        ""
      ]
    },
    {
      "cell_type": "code",
      "id": "qrTRFlnI4o7ecxqt1WKVR",
      "metadata": {},
      "source": [
        "filename = \"./data/simple_windsor.csv\"\n",
        "names = [\"lotsize\", \"price\"]\n",
        "dataset = np.loadtxt(filename, delimiter=',').astype(np.int64)\n",
        "\n",
        "X_full, y_full = dataset.T\n",
        "\n",
        "plt.scatter(X_full, y_full)\n",
        "plt.xlabel('Lot size')\n",
        "plt.ylabel('House price')"
      ],
      "execution_count": 0,
      "outputs": []
    },
    {
      "cell_type": "markdown",
      "id": "zWov250K3GMJRqx0LjlSj",
      "metadata": {},
      "source": [
        "\n",
        "---\n",
        "**Task 1 (easy): Questions💡**\n",
        "1. In the cell below list and characterize 5 observations about the data.\n",
        "\n",
        "\n",
        "---"
      ]
    },
    {
      "cell_type": "code",
      "id": "p6qik2dqUP0h2ozj__NiH",
      "metadata": {},
      "source": [
        "## List reasons here"
      ],
      "execution_count": 0,
      "outputs": []
    },
    {
      "cell_type": "markdown",
      "id": "T-7xXuzRvBoM7RwDc835C",
      "metadata": {},
      "source": [
        "### Splitting into train and test data\n",
        "\n",
        "**Important**\n",
        "It's common to split the data into training and test sets. More details about this at a future lecture. For the current exercise just follow the outlined steps.\n",
        "\n",
        "The following cell splits the dataset into $80\\%$ training data and $20\\%$ test data using the scikit-learn library\n",
        ":\n",
        ""
      ]
    },
    {
      "cell_type": "code",
      "id": "weOQn5_EKO24tu6xUF20v",
      "metadata": {},
      "source": [
        "from sklearn.model_selection import train_test_split\n",
        "\n",
        "X_train, X_test, y_train, y_test = train_test_split(X_full, y_full, test_size=0.2, random_state=42)"
      ],
      "execution_count": 0,
      "outputs": []
    },
    {
      "cell_type": "markdown",
      "id": "TEwbEZN5Xh-Vcm9VSW9jn",
      "metadata": {},
      "source": [
        "## Polynomial regression\n",
        "The following exercise guides you through the steps (1-4) for learning the polynomial model.\n",
        "1. Define the model, e.g. line or polynomial.\n",
        "2. Identitfy knowns and uknowns.\n",
        "3. Construct the design matrix $A$ for the dataset (see the `get_design_matrix`\n",
        " function below).\n",
        "4. Estimate the model parameters using linear least squares ( [Task 2](#estimate) ).\n",
        "\n",
        "The function `get_design_matrix`\n",
        " (defined in the cell below) creates a design matrix for a polynomial of order $N$.\n",
        ""
      ]
    },
    {
      "cell_type": "code",
      "id": "jv_L6-yhfCuqk08rLmdOR",
      "metadata": {},
      "source": [
        "def get_design_matrix(x, order=1):\n",
        "    \"\"\"\n",
        "    Get the coefficients of polynomial in a least square sense of order N.\n",
        "    \n",
        "    :param x: Must be numpy array of size (N).\n",
        "    :order n: Order of Polynomial.\n",
        "    \"\"\"\n",
        "    \n",
        "    if order < 1 or x.ndim != 1:\n",
        "        return x\n",
        "\n",
        "    count = x.shape[0]\n",
        "    matrix = np.ones((count, order + 1), np.float64)\n",
        "\n",
        "    for i in range(1, order+1):\n",
        "        matrix[:, i] = x**i\n",
        "\n",
        "    return matrix"
      ],
      "execution_count": 0,
      "outputs": []
    },
    {
      "cell_type": "markdown",
      "id": "tPa3j3EA_MIVm-_ReheQi",
      "metadata": {},
      "source": [
        "\n",
        "---\n",
        "**Task 2 (medium): Estimate model parameters👩‍💻**\n",
        "Implement the function `train(X, y, order)`\n",
        " in the cell below to learn the model parameters. Use `get_design_matrix(X, order)`\n",
        " to create the design matrix.\n",
        "\n",
        "---"
      ]
    },
    {
      "cell_type": "code",
      "id": "opQMmk5Bhm2gA2yhbt6kv",
      "metadata": {},
      "source": [
        "def train(X, y, order):\n",
        "    \"\"\"\n",
        "    :param X: Input vector.\n",
        "    :param y: Training data values.\n",
        "    :param order: Order of the model to estimate.\n",
        "    \n",
        "    :return: Parameters of model.\n",
        "    \"\"\"\n",
        "    ..."
      ],
      "execution_count": 0,
      "outputs": []
    },
    {
      "cell_type": "markdown",
      "id": "EHtSPBMUu6fmemeVkZvBC",
      "metadata": {},
      "source": [
        "\n",
        "---\n",
        "**Task 3 (easy): Define prediction model👩‍💻**\n",
        "Use the learned model parameters to predict house prices given an input vector $X$ of lot sizes. Implement the prediction function `predict(X, params)`\n",
        " in the cell below. \n",
        "\n",
        "---"
      ]
    },
    {
      "cell_type": "code",
      "id": "C6zg6k4lkNLuM-Lhyk735",
      "metadata": {},
      "source": [
        "def predict(X, w):\n",
        "    \"\"\"\n",
        "    :param X: Input vector.\n",
        "    :param w: Estimated parameters.\n",
        "    \n",
        "    :return: Predicted y-values.\n",
        "    \"\"\"\n",
        "    ..."
      ],
      "execution_count": 0,
      "outputs": []
    },
    {
      "cell_type": "markdown",
      "id": "TLz57JVVejlljoE7p4zdp",
      "metadata": {},
      "source": [
        "\n",
        "---\n",
        "**Task 4 (easy): Prediction👩‍💻**\n",
        "In this task you will use the learnt model parameters for making predictions of house prices given lot sizes. Implement the following steps in the code cell below (marked by `#`\n",
        ").\n",
        "1. Learn model parameters using `X_train`\n",
        " and `y_train`\n",
        ". \n",
        "2. In the cell below calculate the predicted house prices (`y`\n",
        "-values) given the lot-sizes defined in the `values`\n",
        " variable.\n",
        "3. Plot the predicted house prices as a line-plot.\n",
        "\n",
        "\n",
        "---"
      ]
    },
    {
      "cell_type": "code",
      "id": "Azfwb_2NWt8F9NjtfhOLW",
      "metadata": {},
      "source": [
        "values = np.linspace(X_full.min(), X_full.max(), 50)\n",
        "\n",
        "# (1) Learn model parameters\n",
        "\n",
        "# (2) Evaluate model\n",
        "\n",
        "# (3) Plot predicted values\n",
        "plt.scatter(X_train, y_train)"
      ],
      "execution_count": 0,
      "outputs": []
    },
    {
      "cell_type": "markdown",
      "id": "mW1GT1t2-I8WPQrW-COaZ",
      "metadata": {},
      "source": [
        "\n",
        "---\n",
        "**Task 5 (medium): Order of Polynomial👩‍💻**\n",
        "In this task you will experiment with the order of the polynomial model to investigate performance.\n",
        "1. Increase the order of the polynomial and evaluate the results for:    1. A $3$rd-order polynomial.\n",
        "    2. A $4$th-order polynomial.\n",
        "    3. A $7$th-order polynomial.\n",
        "    4. An $11$th-order polynomial.\n",
        "\n",
        "\n",
        "\n",
        "Observe that the predictions deviate drastically from the actual lot sizes for the $7$th-order polynomial and above. \n",
        "1. Explain why this happens? \n",
        "\n",
        "\n",
        "---This problem can be solved by normalizing the input vectors. Normalization transforms the input values to the interval $[0, 1]$ by scaling and translating the inputs using the minimum and maximum values.\n",
        "The cell below provides functions for normalizing and denormalizing (the inverse transformation) input vectors:\n",
        ""
      ]
    },
    {
      "cell_type": "code",
      "id": "2ULWGMbwVPv05APYViBx5",
      "metadata": {},
      "source": [
        "def normalized(X):\n",
        "    n = (X - np.min(X_full))/np.max(X_full)\n",
        "    return n\n",
        "\n",
        "def denormalized(X):\n",
        "    return X*np.max(X_full) + np.min(X_full)"
      ],
      "execution_count": 0,
      "outputs": []
    },
    {
      "cell_type": "markdown",
      "id": "7Ak29PaZCoQ3XHs687saJ",
      "metadata": {},
      "source": [
        "\n",
        "---\n",
        "**Task 6 (medium):  Higher order polynomials with normalization👩‍💻**\n",
        "In this task you will redo [Task 4](#learn) using normalization. Write your solution in the cell below.\n",
        "1. Normalize the inputs in the variable `X_{train}`\n",
        " using the function`normalized`\n",
        ". \n",
        "2. Re-train the model parameters using the normalized inputs using $3.$, $4.$, and $7.$ order polynomials as done in [Task 4](#learn).\n",
        "3. Predict the values of (normalized) `X_{test}`\n",
        ".\n",
        "4. Plot the predicted result as a curve using `plt.plot`\n",
        "\n",
        "\n",
        "\n",
        "---"
      ]
    },
    {
      "cell_type": "code",
      "id": "3WQgs7_7LpYpJQVbU4yCb",
      "metadata": {},
      "source": [
        "values = np.linspace(X_full.min(), X_full.max(), 50)\n",
        "\n",
        "# (1) Normalize the inputs\n",
        "X_normalized = normalized(X_train)\n",
        "\n",
        "# (2) Learn parameters and predict y-values\n",
        "\n",
        "\n",
        "# (3) Plot predicted values\n",
        "plt.scatter(X_train, y_train, c=\"g\")"
      ],
      "execution_count": 0,
      "outputs": []
    },
    {
      "cell_type": "markdown",
      "id": "QV_DmcrwpOC0eMu4QU7_B",
      "metadata": {},
      "source": [
        "\n",
        "---\n",
        "**Task 7 (medium): Normalization improvement💡**\n",
        "1. Visually inspect and reason about how normalization impacts the results.\n",
        "2. Explain why normalization achieves better performance.\n",
        "\n",
        "\n",
        "---"
      ]
    },
    {
      "cell_type": "code",
      "id": "VSNULEh2nUXO3WXf8JfTZ",
      "metadata": {},
      "source": [
        "# Write your answer here"
      ],
      "execution_count": 0,
      "outputs": []
    },
    {
      "cell_type": "markdown",
      "id": "qSuy-Hg8dOHQZrcGtDxCn",
      "metadata": {},
      "source": [
        "## Evaluation\n",
        "In the following steps you will evaluate the models using the _root mean squarred error_ (RMSE) on unseen data (test data). \n",
        "The _root mean squared error_ is defined as:\n",
        "\n",
        "$$\n",
        " \\sqrt{\\frac{1}{m}\\sum_{i=1}^{m}(f_{\\mathbf{w}}(x_{i})-y_{i})^2}\n",
        "$$\n",
        "\n",
        "and calculates the average error measured in the same units as the house prices. \n",
        "The code cell below provides an implementation of the RMSE:\n",
        ""
      ]
    },
    {
      "cell_type": "code",
      "id": "srywDfSQglTABOuBizo-q",
      "metadata": {},
      "source": [
        "def rmse(X, y, w):\n",
        "    X = normalized(X)\n",
        "    ym = predict(X, w)\n",
        "    return np.sqrt(np.mean((y-ym)**2))"
      ],
      "execution_count": 0,
      "outputs": []
    },
    {
      "cell_type": "markdown",
      "id": "E4PDAbKEV0n8N9wQ_G9cR",
      "metadata": {},
      "source": [
        "\n",
        "---\n",
        "**Task 8 (easy): Model evaluation👩‍💻**\n",
        "In this task you will implement the function `evaluate_models`\n",
        " to evaluate polynomial models of order 1 to 19 using the _root mean squared error_. \n",
        "For each model order:\n",
        "1. Learn the model parameters using the `train`\n",
        " function.\n",
        "2. Calculate the _root mean squared error_ of the model on the training set.\n",
        "3. Calculate the _root mean squared error_ of the model on the test set.\n",
        "\n",
        "\n",
        "---"
      ]
    },
    {
      "cell_type": "code",
      "id": "VTUfmGJKGlBXrLhWmndfX",
      "metadata": {},
      "source": [
        "def evaluate_models():\n",
        "    \"\"\"Calculates the RMS error for both training and test data for models with polynomial orders\n",
        "    from 1 to 19.\n",
        "    \n",
        "    Returns: (train losses, test losses)\n",
        "    \"\"\"\n",
        "    losses_train = []\n",
        "    losses_test = []\n",
        "    for order in range(1, 19):\n",
        "        # Add code here\n",
        "        # first, estimate parameters\n",
        "        rmse_train = ...\n",
        "        rmse_test = ...\n",
        "\n",
        "        losses_train.append(rmse_train)\n",
        "        losses_test.append(rmse_test)\n",
        "    return losses_train, losses_test"
      ],
      "execution_count": 0,
      "outputs": []
    },
    {
      "cell_type": "markdown",
      "id": "-CL-KncIo55kMTGIWs9aI",
      "metadata": {},
      "source": [
        "\n",
        "---\n",
        "**Task 9 (easy): Plotting results👩‍💻**\n",
        "1. Plot the training and test losses in the cell below. \n",
        "2. Explain why the test and training losses behave differently as the order of the polynomial increases.\n",
        "3. Use RMSE and the plot(s) to argue what could be the consequences of using these models given that they have these properties. \n",
        "\n",
        "\n",
        "---"
      ]
    },
    {
      "cell_type": "code",
      "id": "_KcmDQVk5nSMxE9UN3jTz",
      "metadata": {},
      "source": [
        "# Write your solution here"
      ],
      "execution_count": 0,
      "outputs": []
    },
    {
      "cell_type": "markdown",
      "id": "xFrVfJrgV0dzUs9hHMABH",
      "metadata": {},
      "source": [
        "\n",
        "---\n",
        "**Task 10 (medium): Reflection💡**\n",
        "1. Reflect on whether it's possible and reasonable to chose a higher order polynomial for improving the training loss. Use the plot in your argumentation. \n",
        "\n",
        "\n",
        "---"
      ]
    },
    {
      "cell_type": "code",
      "id": "c94TmTjmeaFbRjBEKS6Vd",
      "metadata": {},
      "source": [
        "# Write your answers here"
      ],
      "execution_count": 0,
      "outputs": []
    },
    {
      "cell_type": "markdown",
      "id": "FCq1lgp6X6z1JjG4Et2Fk",
      "metadata": {},
      "source": [
        ""
      ]
    }
  ]
}