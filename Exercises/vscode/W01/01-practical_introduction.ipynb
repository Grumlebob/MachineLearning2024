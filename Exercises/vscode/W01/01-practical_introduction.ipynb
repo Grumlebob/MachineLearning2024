{
 "cells": [
  {
   "cell_type": "code",
   "id": "css_setup",
   "metadata": {
    "jupyter": {
     "source_hidden": true
    },
    "ExecuteTime": {
     "end_time": "2024-08-27T11:19:19.095768Z",
     "start_time": "2024-08-27T11:19:19.086588Z"
    }
   },
   "source": [
    "import requests\n",
    "from IPython.core.display import HTML\n"
   ],
   "outputs": [],
   "execution_count": 23
  },
  {
   "cell_type": "markdown",
   "id": "xsItulTrLjS161kjI2XFh",
   "metadata": {},
   "source": [
    "# Practical introduction to Python and Numpy\n",
    "\n",
    "**Important**\n",
    "We recommend that you use use either _Jupyter Lab_ (not notebook) or _Visual Studio Code_ to solve the exercises as you may otherwise risk bad formatting of the exercises. The _Jupyter Lab_ and the _Visual Studio Code_ exercise files are located in different folders in the course material repository on OneDrive.\n",
    "\n",
    "<article class=\"message\">\n",
    "    <div class=\"message-body\">\n",
    "        <strong>Overview of tasks</strong>\n",
    "        <ul style=\"list-style: none;\">\n",
    "            <li>\n",
    "            <a href=\"#norm\">Task 1: Vector length</a>\n",
    "            </li>\n",
    "            <li>\n",
    "            <a href=\"#comprehensions\">Task 2: List comprehensions</a>\n",
    "            </li>\n",
    "            <li>\n",
    "            <a href=\"#dotproduct\">Task 3: Inner product</a>\n",
    "            </li>\n",
    "            <li>\n",
    "            <a href=\"#indexing\">Task 4: Array indexing</a>\n",
    "            </li>\n",
    "            <li>\n",
    "            <a href=\"#norm_np\">Task 5: Length using numpy</a>\n",
    "            </li>\n",
    "            <li>\n",
    "            <a href=\"#angle\">Task 6: Calculating angles</a>\n",
    "            </li>\n",
    "            <li>\n",
    "            <a href=\"#distances\">Task 7: Distances - continued</a>\n",
    "            </li>\n",
    "        </ul>\n",
    "    </div>\n",
    "</article>\n",
    "\n",
    "This exercise delves deeper into the syntax of Python and NumPy, providing guidelines for effectively working with arrays using both lists (native) and NumPy arrays. The first part of the exercise is about implementing basic linear algebra operations using lists while the second part is about using Numpy arrays.Notice, in this course we will primarily be using Numpy when operating on vectors and matrices.\n",
    "**Note:** Run each code cell as you progress through the exercise. Incomplete cells are part of tasks and have to be completed by you.\n",
    "\n",
    "## Using native types in Python to implement basic linear algebra operations\n",
    "\n",
    "The vectors `va`\n",
    "and `vb`\n",
    "are defined as:\n"
   ]
  },
  {
   "cell_type": "code",
   "id": "Mhg2qKlj5IRv1n2VAfgq4",
   "metadata": {
    "ExecuteTime": {
     "end_time": "2024-08-27T11:19:19.126960Z",
     "start_time": "2024-08-27T11:19:19.120418Z"
    }
   },
   "source": [
    "va = [2, 2]\n",
    "vb = [3, 4]"
   ],
   "outputs": [],
   "execution_count": 24
  },
  {
   "cell_type": "markdown",
   "id": "x5oUpCFVCOn2frjHVcLw_",
   "metadata": {},
   "source": [
    "## Vector length\n",
    "\n",
    "The length (L2-norm) of a vector is defined as\n",
    "\n",
    "$$||v|| = \\sqrt{\\sum_{i=1}^N v_i^2}.$$\n",
    "\n",
    "---\n",
    "\n",
    "**Task 1 (easy): Vector length👩‍💻**\n",
    "\n",
    "1. Implement the length as a Python function in the code cell below.\n",
    "2. Calculate the length of the vectors `va`\n",
    "   and `vb`\n",
    "   using the implementation from (1).\n",
    "3. Verify the result using pen and paper.\n",
    "\n",
    "**Hints:**\n",
    "\n",
    "- For-loops in Python loop through the elements of an iterator and takes the current iterator value as the iteration variable, similar to for-each loops in Java.\n",
    "- The `range(x)`\n",
    "  function in Python returns an iterator of integers from $0,\\dots, x-1$.\n",
    "- The length of a list `l`\n",
    "  can be found using the `len(l)`\n",
    "  function.\n",
    "- The `**`\n",
    "  operator implements exponentiation in Python. For the square root of `x`\n",
    "  , use `x**(1/2)`\n",
    "  .\n",
    "- Use Python's built in `help(<function/class/method>)`\n",
    "  function for additional documentation. In Jupyter Lab, you can also open a documentation popover by pressing placing the text cursor on the desired symbol and pressing **Shift + Tab**.\n",
    "\n",
    "---\n"
   ]
  },
  {
   "cell_type": "code",
   "id": "ngn_szIU0zuO4BWp0sLn3",
   "metadata": {
    "ExecuteTime": {
     "end_time": "2024-08-27T11:19:19.173897Z",
     "start_time": "2024-08-27T11:19:19.155046Z"
    }
   },
   "source": [
    "def length(v):\n",
    "    length = 0\n",
    "    for i in range(len(v)):\n",
    "        length += v[i]**2\n",
    "    \n",
    "    return length**0.5\n",
    "\n",
    "\n",
    "print('a', length(va))\n",
    "print('b', length(vb))\n",
    "assert length(va) == 8**0.5\n",
    "assert length(vb) == 5"
   ],
   "outputs": [
    {
     "name": "stdout",
     "output_type": "stream",
     "text": [
      "a 2.8284271247461903\n",
      "b 5.0\n"
     ]
    }
   ],
   "execution_count": 25
  },
  {
   "cell_type": "markdown",
   "id": "TBML2aJLWUrm5iGOAtJeS",
   "metadata": {},
   "source": [
    "## List comprehensions\n",
    "\n",
    "Using loops for list iteration requires quite a lot of boilerplate code. Fortunately, Python's _list comprehensions_ are\n",
    "created to make list iteration more expressive and easier to understand.\n",
    "A list comprehension has the following form\n",
    "\n",
    "```python\n",
    "[f(e) for e in list]\n",
    "\n",
    "\n",
    "```\n",
    "\n",
    "where $f$ is an arbitrary function applied to each element $e$. This\n",
    "is equivalent to the `map`\n",
    "function in functional programming. _Note: List comprehensions can also include guard rules. You can read more about\n",
    "list comprehensions [here](https://docs.python.org/3/tutorial/datastructures.html#list-comprehensions)\n",
    "._\n",
    "Python also provides a wealth of utility functions for performing common list operations. One such function is\n",
    "\n",
    "```python\n",
    "sum(l)\n",
    "\n",
    "\n",
    "```\n",
    "\n",
    "which sums all elements in the list argument.\n",
    "\n",
    "---\n",
    "\n",
    "**Task 2 (easy): List comprehensions👩‍💻**\n",
    "\n",
    "1. Implement the `length2`\n",
    "   function in the cell below by using a list comprehension and the [`sum`\n",
    "   function](https://docs.python.org/3.10/library/functions.html#sum)\n",
    "   . - First, exponentiate each element in a list comprehension, resulting in a new list of values. - Then use the `sum`\n",
    "   function to add all elements and calculate the square root of the sum.\n",
    "\n",
    "2. Verify the result using pen and paper.\n",
    "\n",
    "---\n"
   ]
  },
  {
   "cell_type": "code",
   "id": "rdRvWXsX7VZ9tVS44w4vv",
   "metadata": {
    "ExecuteTime": {
     "end_time": "2024-08-27T11:19:19.250249Z",
     "start_time": "2024-08-27T11:19:19.237471Z"
    }
   },
   "source": [
    "def length2(v):\n",
    "    elements_squared = sum([x**2 for x in v])\n",
    "    return elements_squared**0.5\n",
    "\n",
    "print('a', length2(va))\n",
    "print('b', length2(vb))\n",
    "assert length2(va) == 8**0.5\n",
    "assert length2(vb) == 5"
   ],
   "outputs": [
    {
     "name": "stdout",
     "output_type": "stream",
     "text": [
      "a 2.8284271247461903\n",
      "b 5.0\n"
     ]
    }
   ],
   "execution_count": 26
  },
  {
   "cell_type": "markdown",
   "id": "G0D1UaA5tlbs1EjsQYzw9",
   "metadata": {},
   "source": [
    "---\n",
    "**Task 3 (easy): Inner product👩‍💻**\n",
    "In this task you will calculate the dot product of two vectors using lists. The definition of the dot product:\n",
    "\n",
    "$$\n",
    "a\\cdot b = \\sum_{i=1}^N a_ib_i.\n",
    "$$\n",
    "where $a$ and $b$ are $n$-dimensional vectors.\n",
    "1. Complete the function `dot`\n",
    " below by implementing the inner (dot) product using either for-loops or list \n",
    "comprehensions.    - _Note: If you want to use list comprehensions you need the function `zip`\n",
    " to interleave the two lists. The `zip`\n",
    " function is \n",
    "equivalent to `zip`\n",
    " in most functional programming languages. The documentation can be found \n",
    "[here](https://docs.python.org/3/library/functions.html#zip)\n",
    "_\n",
    "\n",
    "\n",
    "2. Test the implementation on `va`\n",
    " and `vb`\n",
    ". Verify the results using pen and paper.\n",
    "\n",
    "\n",
    "---\n"
   ]
  },
  {
   "cell_type": "code",
   "id": "yMsX2onSPMQThBxI9IFtO",
   "metadata": {
    "ExecuteTime": {
     "end_time": "2024-08-27T11:19:19.296106Z",
     "start_time": "2024-08-27T11:19:19.287441Z"
    }
   },
   "source": [
    "def dot(a, b):\n",
    "    acc = 0\n",
    "    for i in range(len(a)):\n",
    "        acc += a[i] * b[i]\n",
    "    return acc\n",
    "\n",
    "\n",
    "# Tests\n",
    "assert dot(va, vb) == 14"
   ],
   "outputs": [],
   "execution_count": 27
  },
  {
   "cell_type": "markdown",
   "id": "yrWZdaaVS9Hl-6BgLIrKR",
   "metadata": {},
   "source": [
    "## Numpy\n",
    "\n",
    "Numpy makes it way easier to work with multidimensional arrays and provides a significant performance increase when operating on arrays. Refer to this week's tutorial\n",
    "for further information.\n",
    "The following code imports the `numpy`\n",
    "package and creates a $3\\times 3$ matrix:\n",
    "**Note:** Note that the import statement renames `numpy`\n",
    "to `np`\n",
    ". This is commonly done in Python to avoid namespace confusion.\n"
   ]
  },
  {
   "cell_type": "code",
   "id": "wZa_ZEaIn2NqO2rc9dShM",
   "metadata": {
    "ExecuteTime": {
     "end_time": "2024-08-27T11:19:19.358630Z",
     "start_time": "2024-08-27T11:19:19.344770Z"
    }
   },
   "source": [
    "import numpy as np\n",
    "\n",
    "A = np.array([\n",
    "    [1, 2, 3],\n",
    "    [3, 4, 9],\n",
    "    [5, 7, 3]\n",
    "])"
   ],
   "outputs": [],
   "execution_count": 28
  },
  {
   "cell_type": "markdown",
   "id": "Mt6wPrIEzUctNBS2yOIkm",
   "metadata": {},
   "source": [
    "Use `A.shape`\n",
    "to get the dimensions (size) of the array. The `shape`\n",
    "property works on all Numpy arrays, e.g. `(A*2).shape`\n",
    "works as well (we will\n",
    "return to array operations later in this exercise).\n",
    "The cell below prints the shape of `A`\n",
    ":\n"
   ]
  },
  {
   "cell_type": "code",
   "id": "PnZiQPOJMp2MSQyPpxUxy",
   "metadata": {
    "ExecuteTime": {
     "end_time": "2024-08-27T11:19:19.388951Z",
     "start_time": "2024-08-27T11:19:19.372795Z"
    }
   },
   "source": [
    "A.shape"
   ],
   "outputs": [
    {
     "data": {
      "text/plain": [
       "(3, 3)"
      ]
     },
     "execution_count": 29,
     "metadata": {},
     "output_type": "execute_result"
    }
   ],
   "execution_count": 29
  },
  {
   "cell_type": "markdown",
   "id": "n9pWWW2sF3wYW51p9Ermk",
   "metadata": {},
   "source": [
    "## Slicing\n",
    "\n",
    "Slicing allows you to select a subarray of elements using the `<start>:<stop>`\n",
    "notation, e.g. `0:2`\n",
    ". Inspect the code cell below for a few examples:\n"
   ]
  },
  {
   "cell_type": "code",
   "id": "3kCh4wOWFTgvxPi1GesOw",
   "metadata": {
    "ExecuteTime": {
     "end_time": "2024-08-27T11:19:19.435187Z",
     "start_time": "2024-08-27T11:19:19.416472Z"
    }
   },
   "source": [
    "single = A[0]\n",
    "print('single element', single)\n",
    "\n",
    "vector = A[:2, 1] # 0's can be ommitted.\n",
    "print('vector of elements', vector)\n",
    "\n",
    "matrix = A[:, :2]\n",
    "print('matrix of elements\\n', matrix)"
   ],
   "outputs": [
    {
     "name": "stdout",
     "output_type": "stream",
     "text": [
      "single element [1 2 3]\n",
      "vector of elements [2 4]\n",
      "matrix of elements\n",
      " [[1 2]\n",
      " [3 4]\n",
      " [5 7]]\n"
     ]
    }
   ],
   "execution_count": 30
  },
  {
   "cell_type": "markdown",
   "id": "Ao8hZe0m1ZB_s_nupSEL2",
   "metadata": {},
   "source": [
    "Negative indices are equivalent to counting backwards from the end of the array, i.e. `-<idx>`\n",
    "\n",
    "is equivalent to `len(a)-<idx>`\n",
    ". A few examples:\n"
   ]
  },
  {
   "cell_type": "code",
   "id": "rXEYkfi4FBKXbyB6xAXpB",
   "metadata": {
    "ExecuteTime": {
     "end_time": "2024-08-27T11:19:19.510977Z",
     "start_time": "2024-08-27T11:19:19.490538Z"
    }
   },
   "source": [
    "single = A[-1, -1]\n",
    "print('single', single)\n",
    "\n",
    "arange = A[0:-2, 0:-1]\n",
    "print('arange', arange)"
   ],
   "outputs": [
    {
     "name": "stdout",
     "output_type": "stream",
     "text": [
      "single 3\n",
      "arange [[1 2]]\n"
     ]
    }
   ],
   "execution_count": 31
  },
  {
   "cell_type": "markdown",
   "id": "czBZ6G-Ozv-xGu-165ROz",
   "metadata": {},
   "source": [
    "**Info**\n",
    "You can find the official documentation for Numpy slicing [here](https://numpy.org/doc/stable/user/basics.indexing.html)\n",
    ".\n",
    "\n",
    "---\n",
    "\n",
    "**Task 4 (easy): Array indexing👩‍💻**\n",
    "Use slicing to create the following variables:\n",
    "\n",
    "1. Create a 2x2 matrix `ur`\n",
    "   from of the upper right corner of `A`\n",
    "   .\n",
    "2. Extract the 2nd row of `A`\n",
    "   and store it in the variable `row`\n",
    "   .\n",
    "3. Extract the 1st column of `A`\n",
    "   and store it in the variable `col`\n",
    "   .\n",
    "\n",
    "---\n"
   ]
  },
  {
   "cell_type": "code",
   "id": "wXKrtKpTHDGbzyMj9wM_M",
   "metadata": {
    "ExecuteTime": {
     "end_time": "2024-08-27T11:19:19.664803Z",
     "start_time": "2024-08-27T11:19:19.654356Z"
    }
   },
   "source": [
    "ur = A[0:2, 1:3]\n",
    "row = A[1,:]\n",
    "col = A[:,0]\n",
    "\n",
    "print('upper right\\n', ur)\n",
    "print('row', row)\n",
    "print('column', col)\n",
    "\n",
    "# Tests\n",
    "assert np.all(ur == np.array([[2, 3], [4, 9]]))\n",
    "assert np.all(row == np.array([3, 4, 9]))\n",
    "assert np.all(col == np.array([1, 3, 5]))"
   ],
   "outputs": [
    {
     "name": "stdout",
     "output_type": "stream",
     "text": [
      "upper right\n",
      " [[2 3]\n",
      " [4 9]]\n",
      "row [3 4 9]\n",
      "column [1 3 5]\n"
     ]
    }
   ],
   "execution_count": 32
  },
  {
   "cell_type": "markdown",
   "id": "e6Z7FUsm0YQ_bK3sQDSBX",
   "metadata": {},
   "source": [
    "---\n",
    "\n",
    "## Using Numpy array operations\n",
    "\n",
    "While these implementations seem fine for small inputs, they become unbearingly slow for large arrays.\n",
    "Let's try an example. The code below uses numpy to generate $1000000$-dimensional vectors of random numbers:\n"
   ]
  },
  {
   "cell_type": "code",
   "id": "dz8yYz3NscWOGC1kdQUZN",
   "metadata": {
    "ExecuteTime": {
     "end_time": "2024-08-27T11:19:19.726063Z",
     "start_time": "2024-08-27T11:19:19.686118Z"
    }
   },
   "source": [
    "ta = np.random.randint(100, size=1000000)\n",
    "tb = np.random.randint(100, size=1000000)"
   ],
   "outputs": [],
   "execution_count": 33
  },
  {
   "cell_type": "markdown",
   "id": "qnpCwT-_6bKBGegzuYB1K",
   "metadata": {},
   "source": [
    "**Info**\n",
    "In this course the speed of your programs should not be of a major concern.\n",
    "\n",
    "Jupyter notebooks support the command `%timeit <statement>`\n",
    ", which runs a performance test on a given statement. This makes it possible to performance test the native implementation of the inner product from [Task 3](#dotproduct):\n"
   ]
  },
  {
   "cell_type": "code",
   "id": "6jD71fDLMoKhSQ0AdlS05",
   "metadata": {
    "ExecuteTime": {
     "end_time": "2024-08-27T11:19:21.411901Z",
     "start_time": "2024-08-27T11:19:19.747245Z"
    }
   },
   "source": [
    "%timeit dot(ta, tb)"
   ],
   "outputs": [
    {
     "name": "stderr",
     "output_type": "stream",
     "text": [
      "C:\\Users\\jgrum\\AppData\\Local\\Temp\\ipykernel_2668\\1551693532.py:4: RuntimeWarning: overflow encountered in scalar add\n",
      "  acc += a[i] * b[i]\n"
     ]
    },
    {
     "name": "stdout",
     "output_type": "stream",
     "text": [
      "204 ms ± 9.23 ms per loop (mean ± std. dev. of 7 runs, 1 loop each)\n"
     ]
    }
   ],
   "execution_count": 34
  },
  {
   "cell_type": "markdown",
   "id": "nmZB38aSMS18gNhhK13O1",
   "metadata": {},
   "source": [
    "Not very fast, huh? Let's try using Numpy's built-in function for inner products, `np.dot`\n",
    ":\n"
   ]
  },
  {
   "cell_type": "code",
   "id": "dZZiV35Tj6GO8n26OJBGv",
   "metadata": {
    "ExecuteTime": {
     "end_time": "2024-08-27T11:19:26.705636Z",
     "start_time": "2024-08-27T11:19:21.448750Z"
    }
   },
   "source": [
    "%timeit np.dot(ta, tb)"
   ],
   "outputs": [
    {
     "name": "stdout",
     "output_type": "stream",
     "text": [
      "654 μs ± 159 μs per loop (mean ± std. dev. of 7 runs, 1,000 loops each)\n"
     ]
    }
   ],
   "execution_count": 35
  },
  {
   "cell_type": "markdown",
   "id": "Zu4GhaQcA-01hGIZHQN9e",
   "metadata": {},
   "source": [
    "This is approximately 300 times faster than the native implementation (on the test computer, anyway)!. What about other list operations? Let's try the `sum`\n",
    "function:\n"
   ]
  },
  {
   "cell_type": "code",
   "id": "zkw9MITixtnSs5PJL3ZUT",
   "metadata": {
    "ExecuteTime": {
     "end_time": "2024-08-27T11:19:34.806536Z",
     "start_time": "2024-08-27T11:19:26.753076Z"
    }
   },
   "source": [
    "%timeit sum(ta)\n",
    "%timeit np.sum(ta)"
   ],
   "outputs": [
    {
     "name": "stdout",
     "output_type": "stream",
     "text": [
      "73.4 ms ± 12.9 ms per loop (mean ± std. dev. of 7 runs, 10 loops each)\n",
      "257 μs ± 9.26 μs per loop (mean ± std. dev. of 7 runs, 1,000 loops each)\n"
     ]
    }
   ],
   "execution_count": 36
  },
  {
   "cell_type": "markdown",
   "id": "69vouE3aGeLeIxarY3HGc",
   "metadata": {},
   "source": [
    "Again, a similar performance improvement. Because of its performance, Numpy should always be used instead of native Python wherever possible. In general, you should expect a speed improvement of several orders of magnitude when using Numpy.\n",
    "Beware that speed is not a central topic for this course - but hey there is no reason to waste our time either!\n",
    "\n",
    "## Adapting to Numpy\n",
    "\n",
    "This exercise is about adapting the `length`\n",
    "function implemented int [Task 1](#norm) to Numpy. Overloaded operators are common in Numpy. For example, the `**`\n",
    "operator can be used to raise the elements of a NumPy array x to any power. For example `x**4`\n",
    "raises all elements of the array `x`\n",
    "to the power of $4$\n",
    "\n",
    "---\n",
    "\n",
    "**Task 5 (easy): Length using numpy👩‍💻**\n",
    "\n",
    "1. In the cell below, implement `length_np`\n",
    "   using Numpy. You can use Numpy's sum function (`np.sum`\n",
    "   ).\n",
    "2. Test it on the provided input `vec`\n",
    "   .\n",
    "\n",
    "---\n"
   ]
  },
  {
   "cell_type": "code",
   "id": "7ur9cZsJ4hcY9JRmVTQ0e",
   "metadata": {
    "ExecuteTime": {
     "end_time": "2024-08-27T11:19:34.837158Z",
     "start_time": "2024-08-27T11:19:34.824425Z"
    }
   },
   "source": [
    "def length_np(v):\n",
    "    elements_squared = np.sum(v**2)\n",
    "    return elements_squared**0.5\n",
    "\n",
    "vec = np.array([2, 3, 4, 5])\n",
    "length_np(vec)"
   ],
   "outputs": [
    {
     "data": {
      "text/plain": [
       "7.3484692283495345"
      ]
     },
     "execution_count": 37,
     "metadata": {},
     "output_type": "execute_result"
    }
   ],
   "execution_count": 37
  },
  {
   "cell_type": "markdown",
   "id": "XFRMqF8fCDNPk3i0QG3Zg",
   "metadata": {},
   "source": [
    "Compare the Python and Numpy implementations using an array of random numbers:\n"
   ]
  },
  {
   "cell_type": "code",
   "id": "nqEDtxduY92DHFH7V5-qH",
   "metadata": {
    "ExecuteTime": {
     "end_time": "2024-08-27T11:20:00.032814Z",
     "start_time": "2024-08-27T11:19:34.874949Z"
    }
   },
   "source": [
    "vr = np.random.randint(100, size=10000)\n",
    "\n",
    "%timeit length_np(vr)\n",
    "%timeit length(vr)\n",
    "%timeit length2(vr)"
   ],
   "outputs": [
    {
     "name": "stdout",
     "output_type": "stream",
     "text": [
      "16.1 μs ± 3.98 μs per loop (mean ± std. dev. of 7 runs, 100,000 loops each)\n",
      "2.85 ms ± 926 μs per loop (mean ± std. dev. of 7 runs, 100 loops each)\n",
      "1.28 ms ± 84.5 μs per loop (mean ± std. dev. of 7 runs, 1,000 loops each)\n"
     ]
    }
   ],
   "execution_count": 38
  },
  {
   "cell_type": "markdown",
   "id": "9lMH2ml0pzdjq2DB_0Zwx",
   "metadata": {},
   "source": [
    "This should reveal a large difference between the Numpy and Python implementations.\n",
    "\n",
    "## Angles between vectors\n",
    "\n",
    "The angle between vectors $\\mathbf{u}$ and $\\mathbf{v}$ is described by the following relation (as will be presented in the lecture):\n",
    "\n",
    "$$\n",
    "\\cos \\theta = \\frac{\\mathbf{u}\\cdot \\mathbf{v}}{\\|\\mathbf{u}\\|\\|\\mathbf{v}\\|}\n",
    "$$\n",
    "\n",
    "or equivalently\n",
    "\n",
    "$$\n",
    "\\mathbf{u}\\cdot \\mathbf{v} = |\\mathbf{u}\\|\\|\\mathbf{v}\\|\\cos \\theta\n",
    "$$\n",
    "\n",
    "_Note to self: Return the result as a tuple of (radians, degrees). Check what resources we currently have on tuples_\n",
    "\n",
    "---\n",
    "\n",
    "**Task 6 (easy): Calculating angles👩‍💻**\n",
    "\n",
    "1. Use Numpy to implement the `angle`\n",
    "   function in the code cell below. The function should return the angle in radians between inputs `a`\n",
    "   and `b`\n",
    "   .\n",
    "2. Verify the example below using pen and paper.\n",
    "3. Make a new function called `angle2`\n",
    "   , which returns a tuple containing the angle in radians and degrees. Verify the results using a calculator.\n",
    "\n",
    "---\n"
   ]
  },
  {
   "cell_type": "code",
   "id": "np8r4ODyfFNWcyxRvA1sd",
   "metadata": {
    "ExecuteTime": {
     "end_time": "2024-08-27T11:20:00.064373Z",
     "start_time": "2024-08-27T11:20:00.051215Z"
    }
   },
   "source": [
    "def angle(a, b):\n",
    "    \n",
    "    # dot product\n",
    "    dotab = np.dot(a, b)\n",
    "    # lenght of a\n",
    "    lengtha = length_np(a)\n",
    "    # lenght of b\n",
    "    lengthb = length_np(b)\n",
    "\n",
    "    return np.arccos(dotab / (lengtha * lengthb))\n",
    "\n",
    "a = np.array([2, 3, 4])\n",
    "b = np.array([0, -1, 2])\n",
    "print(angle(a, b)) # The result should be: 1.1426035712129559\n",
    "assert angle(a, b) == 1.1426035712129559"
   ],
   "outputs": [
    {
     "name": "stdout",
     "output_type": "stream",
     "text": [
      "1.1426035712129559\n"
     ]
    }
   ],
   "execution_count": 39
  },
  {
   "cell_type": "markdown",
   "id": "BMrOtiP61zc65maQQV6c0",
   "metadata": {},
   "source": [
    "## Distances\n",
    "\n",
    "The Euclidean distance between two vectors $\\mathbf{a}$ and $\\mathbf{b}$ is calculated as the length of the difference vector between $\\mathbf{a}$ and $\\mathbf{b}$, i.e. $\\|\\mathbf{a}-\\mathbf{b}\\|$.\n",
    "\n",
    "---\n",
    "\n",
    "**Task 7 (medium): Distances👩‍💻**\n",
    "\n",
    "1. Use the code cell below to create two-dimensional vectors $\\mathbf{a}=\\begin{bmatrix}0\\\\0\\end{bmatrix}$ and $\\mathbf{b}=\\begin{bmatrix}1\\\\1\\end{bmatrix}$ using `np.zeros`\n",
    "   and `np.ones`\n",
    "   (refer to the tutorial for inspiration).\n",
    "2. Calculate the distance between the points and print the result.\n",
    "3. Create n-dimensional vectors $\\mathbf{a}=\\begin{bmatrix}0\\\\\\vdots\\\\0\\end{bmatrix}$ and $\\mathbf{b}=\\begin{bmatrix}1\\\\\\vdots\\\\1\\end{bmatrix}$ using `np.zeros`\n",
    "   and `np.ones`\n",
    "   (refer to the tutorial for inspiration) for $n=1, \\dots, 10$. Calculate the distance between the vectors for each number of dimensions. Plot the distances as a function of $n$.\n",
    "\n",
    "---\n"
   ]
  },
  {
   "cell_type": "code",
   "id": "nbebQC03G4koeoDXBniSQ",
   "metadata": {
    "ExecuteTime": {
     "end_time": "2024-08-27T11:20:00.111305Z",
     "start_time": "2024-08-27T11:20:00.100412Z"
    }
   },
   "source": [
    "# Write your solution here\n",
    "\n",
    "#Pointen er at vector med kun 0 vil altid have distance = 0. Så vi kan nøjes med på vector med kun 1.\n",
    "# Ex med 3 dimensioner: 1+1+1. Derfor er funktionen direkte bare sqrt(n)\n",
    "\n",
    "\n",
    "arraymednultilti = np.arange(1,11)\n",
    "\n",
    "\n",
    "def distanceBasedOnDimensions (n: int):\n",
    "    v = np.ones(n)\n",
    "    return np.dot(v,v)**(1/2)\n",
    "\n",
    "resultarray = [distanceBasedOnDimensions(i) for i in arraymednultilti]\n",
    "    \n",
    "resultarray\n",
    "\n"
   ],
   "outputs": [
    {
     "data": {
      "text/plain": [
       "[1.0,\n",
       " 1.4142135623730951,\n",
       " 1.7320508075688772,\n",
       " 2.0,\n",
       " 2.23606797749979,\n",
       " 2.449489742783178,\n",
       " 2.6457513110645907,\n",
       " 2.8284271247461903,\n",
       " 3.0,\n",
       " 3.1622776601683795]"
      ]
     },
     "execution_count": 40,
     "metadata": {},
     "output_type": "execute_result"
    }
   ],
   "execution_count": 40
  },
  {
   "cell_type": "markdown",
   "id": "b5N63QYXgEAbVYrBHtIij",
   "metadata": {},
   "source": [
    "---\n",
    "**Task 8 (medium): Distances - continued💡**\n",
    "This task extends on the previous exercise.\n",
    "1. Explain the relationship in the figure between the number of dimensions and the distance.\n",
    "2. Derive a formula for the distance between $\\mathbf{a}$ and $\\mathbf{b}$ as a function of the number of dimensions $n$, i.e. $f(n)=?$\n",
    "\n",
    "\n",
    "---\n"
   ]
  },
  {
   "metadata": {},
   "cell_type": "markdown",
   "source": "# In-class exercise",
   "id": "4e525b210e7ae786"
  },
  {
   "metadata": {
    "ExecuteTime": {
     "end_time": "2024-08-27T11:44:02.745891Z",
     "start_time": "2024-08-27T11:44:02.641658Z"
    }
   },
   "cell_type": "code",
   "source": [
    "import numpy as np\n",
    "\n",
    "#We are given 3 vectors:\n",
    "vec_a = np.array([180,70,10,0,4])\n",
    "vec_b = np.array([165,55,8,1,7])\n",
    "vec_c = np.array([175,60,9,0,3])\n",
    "\n",
    "euc_a_b = np.linalg.norm(vec_a - vec_b)\n",
    "euc_a_c = np.linalg.norm(vec_a - vec_c)\n",
    "euc_b_c = np.linalg.norm(vec_b - vec_c)\n",
    "\n",
    "#Print the values nicely:\n",
    "print(f\"Euclidean distance between a and b: {euc_a_b}\")\n",
    "print(f\"Euclidean distance between a and c: {euc_a_c}\")\n",
    "print(f\"Euclidean distance between b and c: {euc_b_c}\")\n",
    "\n",
    "#Angle between a and b\n",
    "angle_ab = angle(vec_a, vec_b)\n",
    "print(f\"Angle between a and b: {angle_ab}\")\n",
    "#Angle between a and c\n",
    "angle_ac = angle(vec_a, vec_c)\n",
    "print(f\"Angle between a and c: {angle_ac}\")\n",
    "#Angle between b and c\n",
    "angle_bc = angle(vec_b, vec_c)\n",
    "print(f\"Angle between b and c: {angle_bc}\")\n",
    "\n",
    "#Calculate angle between a and b using ordinary formula\n",
    "angle_ab_2 = np.arccos(np.dot(vec_a, vec_b) / (length_np(vec_a) * length_np(vec_b))) * 180 / np.pi\n",
    "print(f\"Angle between a and b using ordinary formula: {angle_ab_2}\")\n"
   ],
   "id": "62178052d3b5700e",
   "outputs": [
    {
     "name": "stdout",
     "output_type": "stream",
     "text": [
      "Euclidean distance between a and b: 21.540659228538015\n",
      "Euclidean distance between a and c: 11.269427669584644\n",
      "Euclidean distance between b and c: 11.958260743101398\n",
      "Angle between a and b: 0.05341554223476993\n",
      "Angle between a and c: 0.04090250045754138\n",
      "Angle between b and c: 0.026232411794052557\n",
      "Angle between a and b using ordinary formula: 3.0604851304551146\n"
     ]
    }
   ],
   "execution_count": 45
  },
  {
   "metadata": {},
   "cell_type": "code",
   "outputs": [],
   "execution_count": null,
   "source": "",
   "id": "d6d3ade145645760"
  }
 ],
 "metadata": {
  "kernelspec": {
   "display_name": "Python",
   "language": "python3",
   "name": "python3"
  },
  "language_info": {
   "codemirror_mode": {
    "name": "ipython",
    "version": 3
   },
   "file_extension": ".py",
   "mimetype": "text/x-python",
   "name": "python",
   "nbconvert_exporter": "python",
   "pygments_lexer": "ipython3",
   "version": "3.10.14"
  }
 },
 "nbformat": 4,
 "nbformat_minor": 5
}
