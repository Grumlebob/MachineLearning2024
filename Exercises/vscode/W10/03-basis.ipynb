{
 "cells": [
  {
   "cell_type": "code",
   "execution_count": 1,
   "id": "css_setup",
   "metadata": {
    "jupyter": {
     "source_hidden": true
    }
   },
   "outputs": [],
   "source": [
    "import requests\n",
    "from IPython.core.display import HTML"
   ]
  },
  {
   "cell_type": "markdown",
   "id": "A5wWfv-jfzPLcq04BKlPO",
   "metadata": {},
   "source": [
    "# Bases and transformations\n",
    "The following tasks are designed to provide a refresher on bases and transformations between them.\n",
    "\n",
    "<article class=\"message\">\n",
    "    <div class=\"message-body\">\n",
    "        <strong>List of individual tasks</strong>\n",
    "        <ul style=\"list-style: none;\">\n",
    "            <li>\n",
    "            <a href=\"#basis\">Task 1: Identifying Basis Vectors</a>\n",
    "            </li>\n",
    "            <li>\n",
    "            <a href=\"#basis_combined\">Task 2: Basis Transformation and Change of Coord…</a>\n",
    "            </li>\n",
    "            <li>\n",
    "            <a href=\"#basis4\">Task 3: Applying a Linear Transformation in Diff…</a>\n",
    "            </li>\n",
    "            <li>\n",
    "            <a href=\"#basis5\">Task 4: Basis and Dimensionality Check</a>\n",
    "            </li>\n",
    "        </ul>\n",
    "    </div>\n",
    "</article>\n",
    "\n",
    "\n",
    "---\n",
    "**Task 1 (easy): Identifying Basis Vectors♾️**\n",
    "Given the following bases vectors for $\\mathbb{R}^2$:\n",
    "\n",
    "$$\n",
    "\\begin{array}{l}\n",
    "1. \\left\\{ \\begin{bmatrix} 1 \\\\ 0 \\end{bmatrix}, \\begin{bmatrix} 0 \\\\ 1 \\end{bmatrix} \\right\\} \\\\[12pt]\n",
    "2. \\left\\{ \\begin{bmatrix} 2 \\\\ 3 \\end{bmatrix}, \\begin{bmatrix} -1 \\\\ 2 \\end{bmatrix} \\right\\} \\\\[12pt]\n",
    "3. \\left\\{ \\begin{bmatrix} 1 \\\\ 1 \\end{bmatrix}, \\begin{bmatrix} 2 \\\\ 2 \\end{bmatrix} \\right\\} \\\\\n",
    "\\end{array}\n",
    "$$\n",
    "1. Which of these sets forms a basis for $\\mathbb{R}^2 $? Justify your answer by checking linear independence and spanning the vector space.\n",
    "\n",
    "\n",
    "---"
   ]
  },
  {
   "cell_type": "code",
   "execution_count": 2,
   "id": "k6wHsfnDrAdVAg9vBC4PD",
   "metadata": {},
   "outputs": [
    {
     "name": "stdout",
     "output_type": "stream",
     "text": [
      "Set 1 forms a basis: True\n",
      "Set 2 forms a basis: True\n",
      "Set 3 forms a basis: False\n"
     ]
    }
   ],
   "source": [
    "import numpy as np\n",
    "\n",
    "# Function to check if a set of vectors forms a basis by checking linear independence\n",
    "def is_linearly_independent(vectors):\n",
    "    matrix = np.column_stack(vectors)  # Form a matrix with vectors as columns\n",
    "    rank = np.linalg.matrix_rank(matrix)\n",
    "    return rank == len(vectors)  # True if rank equals the number of vectors\n",
    "\n",
    "# Define the vector sets\n",
    "vectors_set_1 = [np.array([1, 0]), np.array([0, 1])]\n",
    "vectors_set_2 = [np.array([2, 3]), np.array([-1, 2])]\n",
    "vectors_set_3 = [np.array([1, 1]), np.array([2, 2])]\n",
    "\n",
    "# Check if each set is a basis\n",
    "print(\"Set 1 forms a basis:\", is_linearly_independent(vectors_set_1))\n",
    "print(\"Set 2 forms a basis:\", is_linearly_independent(vectors_set_2))\n",
    "print(\"Set 3 forms a basis:\", is_linearly_independent(vectors_set_3))\n",
    "\n",
    "# Explanation\n",
    "# For a set to form a basis for R^2, it must be linearly independent and span R^2.\n",
    "# We checked linear independence using the matrix rank. If the rank equals the number of vectors, \n",
    "# they are linearly independent and thus form a basis if they are in R^2.\n",
    "\n",
    "# Results:\n",
    "# - Set 1: Standard basis vectors [1, 0] and [0, 1] are linearly independent.\n",
    "# - Set 2: The vectors [2, 3] and [-1, 2] are linearly independent and span R^2.\n",
    "# - Set 3: The vectors [1, 1] and [2, 2] are linearly dependent (rank is 1), so they do not form a basis."
   ]
  },
  {
   "cell_type": "markdown",
   "id": "2EH3pdhaHk1C9bs4gNQg3",
   "metadata": {},
   "source": [
    "\n",
    "---\n",
    "**Task 2 (hard): Basis Transformation and Change of Coordinates♾️**\n",
    "Consider three bases in  $\\mathbb{R}^2$:\n",
    "1. The standard basis  \n",
    "$$E = \\left\\{ \\begin{bmatrix} 1 \\\\ 0 \\end{bmatrix}, \\begin{bmatrix} 0 \\\\ 1 \\end{bmatrix} \\right\\}$$\n",
    " \n",
    "2. The basis  \n",
    "$$B   = \\left\\{ \\begin{bmatrix} 1 \\\\ 2 \\end{bmatrix}, \\begin{bmatrix} 2 \\\\ -1 \\end{bmatrix} \\right\\}$$\n",
    " \n",
    "3. The basis  \n",
    "$$C   = \\left\\{ \\begin{bmatrix} 2 \\\\ 1 \\end{bmatrix}, \\begin{bmatrix} 1 \\\\ 3 \\end{bmatrix} \\right\\}$$\n",
    " \n",
    "\n",
    "Given two vectors in the standard basis:\n",
    "\n",
    "$$\n",
    "\\text{v} = \\begin{bmatrix} 3 \\\\ 1 \\end{bmatrix}, \n",
    "\\text{w} = \\begin{bmatrix} 7 \\\\ 6 \\end{bmatrix} \n",
    "$$\n",
    "1. Draw the basis vectors for  $E$,  $B$ , and  $C$ and the vectors $\\text{v}$ and $\\text{w}$  on a piece of paper.\n",
    "\n",
    "2. Express $\\text{v}$ and $\\text{w}$  in the basis  $B$. \n",
    "\n",
    "3. Express $\\text{v}$  and $\\text{w}$  in the basis $C$.\n",
    "\n",
    "4. Find the change of basis matrix  $T_E^B$ that given a vector expressed in the basis  E  maps it to the basis B. \n",
    "\n",
    "5. Find the change of basis matrix  $T_E^C$ that given a vector expressed in the basis  E  maps it to the basis C.\n",
    "\n",
    "6. Use the change of basis matrices to transform  $\\text{v}$ and $\\text{w}$ from standard basis to the basis $B$ and $C$ respectively. Verify that the resulting coordinates match your results from the previous steps.\n",
    "\n",
    "\n",
    "\n",
    "---"
   ]
  },
  {
   "cell_type": "code",
   "execution_count": 3,
   "id": "0t4jsCksMXaEkxQftsU6i",
   "metadata": {},
   "outputs": [
    {
     "name": "stdout",
     "output_type": "stream",
     "text": [
      "v in basis B: [1. 1.]\n",
      "w in basis B: [3.8 1.6]\n",
      "v in basis C: [ 1.6 -0.2]\n",
      "w in basis C: [3. 1.]\n",
      "Change of basis matrix T_E^B:\n",
      " [[ 0.2  0.4]\n",
      " [ 0.4 -0.2]]\n",
      "Change of basis matrix T_E^C:\n",
      " [[ 0.6 -0.2]\n",
      " [-0.2  0.4]]\n",
      "v transformed to basis B: [1. 1.]\n",
      "w transformed to basis B: [3.8 1.6]\n",
      "v transformed to basis C: [ 1.6 -0.2]\n",
      "w transformed to basis C: [3. 1.]\n"
     ]
    }
   ],
   "source": [
    "standard_basis = np.array([[1, 0], [0, 1]])\n",
    "basis_B = np.array([[1, 2], [2, -1]])\n",
    "basis_C = np.array([[2, 1], [1, 3]])\n",
    "\n",
    "# Given vectors in the standard basis\n",
    "v = np.array([3, 1])\n",
    "w = np.array([7, 6])\n",
    "\n",
    "# Function to express a vector in a given basis\n",
    "def change_coordinates(vector, basis):\n",
    "    return np.linalg.solve(basis, vector)\n",
    "\n",
    "# Express v and w in basis B\n",
    "v_in_B = change_coordinates(v, basis_B)\n",
    "w_in_B = change_coordinates(w, basis_B)\n",
    "print(\"v in basis B:\", v_in_B)\n",
    "print(\"w in basis B:\", w_in_B)\n",
    "\n",
    "# Express v and w in basis C\n",
    "v_in_C = change_coordinates(v, basis_C)\n",
    "w_in_C = change_coordinates(w, basis_C)\n",
    "print(\"v in basis C:\", v_in_C)\n",
    "print(\"w in basis C:\", w_in_C)\n",
    "\n",
    "# Find the change of basis matrices T_E^B and T_E^C\n",
    "T_E_B = np.linalg.inv(basis_B)\n",
    "T_E_C = np.linalg.inv(basis_C)\n",
    "print(\"Change of basis matrix T_E^B:\\n\", T_E_B)\n",
    "print(\"Change of basis matrix T_E^C:\\n\", T_E_C)\n",
    "\n",
    "# Verify the transformations\n",
    "v_transformed_B = T_E_B @ v\n",
    "w_transformed_B = T_E_B @ w\n",
    "v_transformed_C = T_E_C @ v\n",
    "w_transformed_C = T_E_C @ w\n",
    "print(\"v transformed to basis B:\", v_transformed_B)\n",
    "print(\"w transformed to basis B:\", w_transformed_B)\n",
    "print(\"v transformed to basis C:\", v_transformed_C)\n",
    "print(\"w transformed to basis C:\", w_transformed_C)\n",
    "\n",
    "# Explanation\n",
    "# The results of transforming v and w using the change of basis matrices should match \n",
    "# the coordinates obtained earlier by solving the linear equations."
   ]
  },
  {
   "cell_type": "markdown",
   "id": "xtbn-smuPvnln1_VR9lqf",
   "metadata": {},
   "source": [
    "\n",
    "---\n",
    "**Task 3 (easy): Applying a Linear Transformation in Different Bases♾️**\n",
    "Let $ T: \\mathbb{R}^2 \\to \\mathbb{R}^2 $ be a linear transformation represented by the matrix:\n",
    "\n",
    "$$\n",
    "A = \\begin{bmatrix} 1 & 2 \\\\ 3 & 4 \\end{bmatrix}\n",
    "$$\n",
    "\n",
    "in the standard basis. Let \n",
    "\n",
    "$$\n",
    "B = \\left\\{ \\begin{bmatrix} 1 \\\\ 1 \\end{bmatrix}, \\begin{bmatrix} -1 \\\\ 2 \\end{bmatrix} \\right\\}\n",
    "$$\n",
    " \n",
    "be a new basis.\n",
    "1. Calculate the matrix that represents $ T $ with respect to the basis $ B $. Use the change of basis matrices to show your work.\n",
    "\n",
    "\n",
    "---"
   ]
  },
  {
   "cell_type": "code",
   "execution_count": 4,
   "id": "RyNOsowpSpERkr8DPcZjZ",
   "metadata": {},
   "outputs": [
    {
     "name": "stdout",
     "output_type": "stream",
     "text": [
      "Transformation matrix A in basis B:\n",
      " [[4.33333333 3.66666667]\n",
      " [1.33333333 0.66666667]]\n"
     ]
    }
   ],
   "source": [
    "# Task 3: Applying a Linear Transformation in Different Bases\n",
    "# Define the transformation matrix A in the standard basis\n",
    "A = np.array([[1, 2], [3, 4]])\n",
    "\n",
    "# Change of basis matrix from standard basis to basis B\n",
    "P_B = np.column_stack([np.array([1, 1]), np.array([-1, 2])])  # Basis B as columns\n",
    "P_B_inv = np.linalg.inv(P_B)\n",
    "\n",
    "# Matrix representing T in basis B\n",
    "A_B = P_B_inv @ A @ P_B\n",
    "print(\"Transformation matrix A in basis B:\\n\", A_B)\n",
    "\n",
    "# Explanation\n",
    "# The matrix A_B represents the linear transformation T in the new basis B."
   ]
  },
  {
   "cell_type": "markdown",
   "id": "ndq28kHVbHO-nHcs7PT5E",
   "metadata": {},
   "source": [
    "\n",
    "---\n",
    "**Task 4 (easy): Basis and Dimensionality Check♾️**\n",
    "Suppose $ \\mathbb{R}^3 $ has a basis given by \n",
    "\n",
    "$$\n",
    "B = \\left\\{ \\begin{bmatrix} 1 \\\\ 0 \\\\ 1 \\end{bmatrix}, \\begin{bmatrix} 0 \\\\ 1 \\\\ 1 \\end{bmatrix}, \\begin{bmatrix} 1 \\\\ -1 \\\\ 0 \\end{bmatrix} \\right\\}.\n",
    "$$\n",
    "\n",
    "1. Verify that $ B $ is a basis by showing it spans $ \\mathbb{R}^3 $ and is linearly independent.\n",
    "2. If a fourth vector $ \\begin{bmatrix} 2 \\\\ -1 \\\\ 3 \\end{bmatrix} $ is added to $ B $, does it still form a basis for $ \\mathbb{R}^3 $? Explain your reasoning in terms of dimension.\n",
    "\n",
    "\n",
    "---"
   ]
  },
  {
   "cell_type": "code",
   "execution_count": 5,
   "id": "V6WIFizFwiACDq2b4FYWj",
   "metadata": {},
   "outputs": [
    {
     "name": "stdout",
     "output_type": "stream",
     "text": [
      "Basis B for R^3 is linearly independent: False\n",
      "Basis B with the additional vector is linearly independent: False\n"
     ]
    }
   ],
   "source": [
    "# Task 4: Basis and Dimensionality Check\n",
    "# Define the given basis for R^3\n",
    "basis_R3 = [np.array([1, 0, 1]), np.array([0, 1, 1]), np.array([1, -1, 0])]\n",
    "\n",
    "# Check if the basis spans R^3 and is linearly independent\n",
    "print(\"Basis B for R^3 is linearly independent:\", is_linearly_independent(basis_R3))\n",
    "\n",
    "# Adding a fourth vector to the basis\n",
    "additional_vector = np.array([2, -1, 3])\n",
    "basis_with_additional = basis_R3 + [additional_vector]\n",
    "\n",
    "# Check if the new set with the additional vector still forms a basis\n",
    "print(\"Basis B with the additional vector is linearly independent:\", is_linearly_independent(basis_with_additional))\n",
    "\n",
    "# Explanation\n",
    "# A basis for R^3 must have exactly 3 linearly independent vectors. Adding a fourth vector results in a set of 4 vectors,\n",
    "# which cannot form a basis for R^3 because the dimension of the space is 3. The rank check confirms whether the set \n",
    "# remains independent, but if the rank is still 3, it means the fourth vector is dependent on the existing basis vectors."
   ]
  }
 ],
 "metadata": {
  "kernelspec": {
   "display_name": "iml",
   "language": "python",
   "name": "python3"
  },
  "language_info": {
   "codemirror_mode": {
    "name": "ipython",
    "version": 3
   },
   "file_extension": ".py",
   "mimetype": "text/x-python",
   "name": "python",
   "nbconvert_exporter": "python",
   "pygments_lexer": "ipython3",
   "version": "3.10.14"
  }
 },
 "nbformat": 4,
 "nbformat_minor": 5
}
